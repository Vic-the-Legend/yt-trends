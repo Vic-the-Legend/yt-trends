{
 "cells": [
  {
   "cell_type": "markdown",
   "metadata": {},
   "source": [
    "# Logistic Regression Model Video Classifier\n",
    "\n",
    "This notebook uses Logistic Regression to predict a Youtube category based off of \n",
    "the title. We will run this on three inputs. Filtered titles, filtered and normalized titles, and\n",
    "filtered titles with no stop words"
   ]
  },
  {
   "cell_type": "code",
   "execution_count": 1,
   "metadata": {},
   "outputs": [],
   "source": [
    "import pandas as pd\n",
    "from nltk.corpus import stopwords\n",
    "\n",
    "from sklearn.model_selection import train_test_split\n",
    "from sklearn.feature_extraction.text import CountVectorizer, TfidfTransformer\n",
    "from sklearn import metrics\n",
    "from sklearn.metrics import accuracy_score\n",
    "import matplotlib.pyplot as plt\n",
    "\n",
    "import string\n",
    "\n",
    "from sklearn.linear_model import LogisticRegression\n",
    "\n",
    "import warnings\n",
    "warnings.filterwarnings(\"ignore\", category=FutureWarning)"
   ]
  },
  {
   "cell_type": "markdown",
   "metadata": {},
   "source": [
    "### Load data and get Data\n",
    "\n",
    "Here, we want to load the csv file and separate each column. "
   ]
  },
  {
   "cell_type": "code",
   "execution_count": 2,
   "metadata": {},
   "outputs": [
    {
     "data": {
      "text/html": [
       "<div>\n",
       "<style scoped>\n",
       "    .dataframe tbody tr th:only-of-type {\n",
       "        vertical-align: middle;\n",
       "    }\n",
       "\n",
       "    .dataframe tbody tr th {\n",
       "        vertical-align: top;\n",
       "    }\n",
       "\n",
       "    .dataframe thead th {\n",
       "        text-align: right;\n",
       "    }\n",
       "</style>\n",
       "<table border=\"1\" class=\"dataframe\">\n",
       "  <thead>\n",
       "    <tr style=\"text-align: right;\">\n",
       "      <th></th>\n",
       "      <th>title</th>\n",
       "      <th>filter_title</th>\n",
       "      <th>filter_title_no_stops</th>\n",
       "      <th>category_id</th>\n",
       "    </tr>\n",
       "  </thead>\n",
       "  <tbody>\n",
       "    <tr>\n",
       "      <td>0</td>\n",
       "      <td>WE WANT TO TALK ABOUT OUR MARRIAGE</td>\n",
       "      <td>we want to talk about our marriage</td>\n",
       "      <td>want talk marriage</td>\n",
       "      <td>People &amp; Blogs</td>\n",
       "    </tr>\n",
       "    <tr>\n",
       "      <td>1</td>\n",
       "      <td>The Trump Presidency: Last Week Tonight with J...</td>\n",
       "      <td>the trump presidency last week tonight with jo...</td>\n",
       "      <td>trump presidency last week tonight john oliver...</td>\n",
       "      <td>Entertainment</td>\n",
       "    </tr>\n",
       "    <tr>\n",
       "      <td>2</td>\n",
       "      <td>Racist Superman | Rudy Mancuso, King Bach &amp; Le...</td>\n",
       "      <td>racist superman rudy mancuso king bach lele pons</td>\n",
       "      <td>racist superman rudy mancuso king bach lele pons</td>\n",
       "      <td>Comedy</td>\n",
       "    </tr>\n",
       "    <tr>\n",
       "      <td>3</td>\n",
       "      <td>Nickelback Lyrics: Real or Fake?</td>\n",
       "      <td>nickelback lyrics real or fake</td>\n",
       "      <td>nickelback lyrics real fake</td>\n",
       "      <td>Entertainment</td>\n",
       "    </tr>\n",
       "    <tr>\n",
       "      <td>4</td>\n",
       "      <td>I Dare You: GOING BALD!?</td>\n",
       "      <td>i dare you going bald</td>\n",
       "      <td>dare going bald</td>\n",
       "      <td>Entertainment</td>\n",
       "    </tr>\n",
       "  </tbody>\n",
       "</table>\n",
       "</div>"
      ],
      "text/plain": [
       "                                               title  \\\n",
       "0                 WE WANT TO TALK ABOUT OUR MARRIAGE   \n",
       "1  The Trump Presidency: Last Week Tonight with J...   \n",
       "2  Racist Superman | Rudy Mancuso, King Bach & Le...   \n",
       "3                   Nickelback Lyrics: Real or Fake?   \n",
       "4                           I Dare You: GOING BALD!?   \n",
       "\n",
       "                                        filter_title  \\\n",
       "0                 we want to talk about our marriage   \n",
       "1  the trump presidency last week tonight with jo...   \n",
       "2   racist superman rudy mancuso king bach lele pons   \n",
       "3                     nickelback lyrics real or fake   \n",
       "4                              i dare you going bald   \n",
       "\n",
       "                               filter_title_no_stops     category_id  \n",
       "0                                 want talk marriage  People & Blogs  \n",
       "1  trump presidency last week tonight john oliver...   Entertainment  \n",
       "2   racist superman rudy mancuso king bach lele pons          Comedy  \n",
       "3                        nickelback lyrics real fake   Entertainment  \n",
       "4                                    dare going bald   Entertainment  "
      ]
     },
     "execution_count": 2,
     "metadata": {},
     "output_type": "execute_result"
    }
   ],
   "source": [
    "df_dataset = pd.read_csv('./output/US_count_vectorizer_dataset.csv')\n",
    "df_dataset.head()"
   ]
  },
  {
   "cell_type": "markdown",
   "metadata": {},
   "source": [
    "1. df_x are regular, filtered title\n",
    "2. df_x2 are filtered title that does not contain stop words\n",
    "3. df_y are video categories\n",
    "4. target_names are all the possible categories"
   ]
  },
  {
   "cell_type": "code",
   "execution_count": 3,
   "metadata": {},
   "outputs": [],
   "source": [
    "df_x = df_dataset['filter_title']\n",
    "df_x2 = df_dataset['filter_title_no_stops']\n",
    "df_y = df_dataset['category_id']\n",
    "target_names = list(df_dataset['category_id'].unique())"
   ]
  },
  {
   "cell_type": "markdown",
   "metadata": {},
   "source": [
    "### Split the data\n",
    "\n",
    "We want to split the data here where 80 percent are reserved for training and 20 percent is reserved for testing"
   ]
  },
  {
   "cell_type": "code",
   "execution_count": 4,
   "metadata": {},
   "outputs": [],
   "source": [
    "x_train, x_test, y_train, y_test = train_test_split(df_x, df_y, test_size=0.2, random_state=117)\n",
    "x_train2, x_test2 = train_test_split(df_x2, test_size=0.2, random_state=117)\n",
    "\n",
    "# replace NaN with spaces so count vectorizer can work\n",
    "x_train2 = x_train2.fillna(' ')\n",
    "x_test2 = x_test2.fillna(' ')"
   ]
  },
  {
   "cell_type": "markdown",
   "metadata": {},
   "source": [
    "### Tokenize words\n",
    "\n",
    "Here, we want to essentially want to convert our words in the title here into 1 and 0s\n",
    "so the Logistic Regression model can recognize it"
   ]
  },
  {
   "cell_type": "code",
   "execution_count": 5,
   "metadata": {},
   "outputs": [
    {
     "name": "stdout",
     "output_type": "stream",
     "text": [
      "(32759, 10574)\n",
      "[[0 0 0 ... 0 0 0]\n",
      " [0 0 0 ... 0 0 0]\n",
      " [0 0 0 ... 0 0 0]\n",
      " ...\n",
      " [0 0 0 ... 0 0 0]\n",
      " [0 0 0 ... 0 0 0]\n",
      " [0 0 0 ... 0 0 0]]\n"
     ]
    }
   ],
   "source": [
    "count_vectorizer = CountVectorizer()\n",
    "train_count_vector = count_vectorizer.fit_transform(x_train)\n",
    "test_count_vector = count_vectorizer.transform(x_test)\n",
    "print(train_count_vector.shape)\n",
    "print(train_count_vector.toarray())\n",
    "\n",
    "\n",
    "train_count_vector2 = count_vectorizer.fit_transform(x_train2)\n",
    "test_count_vector2 = count_vectorizer.transform(x_test2)\n"
   ]
  },
  {
   "cell_type": "markdown",
   "metadata": {},
   "source": [
    "### Normalize filtered title"
   ]
  },
  {
   "cell_type": "code",
   "execution_count": 6,
   "metadata": {},
   "outputs": [
    {
     "name": "stdout",
     "output_type": "stream",
     "text": [
      "(32759, 10574)\n",
      "[[0. 0. 0. ... 0. 0. 0.]\n",
      " [0. 0. 0. ... 0. 0. 0.]\n",
      " [0. 0. 0. ... 0. 0. 0.]\n",
      " ...\n",
      " [0. 0. 0. ... 0. 0. 0.]\n",
      " [0. 0. 0. ... 0. 0. 0.]\n",
      " [0. 0. 0. ... 0. 0. 0.]]\n"
     ]
    }
   ],
   "source": [
    "tfidf_vectorizer = TfidfTransformer()\n",
    "x_trained_tfidf_vector = tfidf_vectorizer.fit_transform(train_count_vector)\n",
    "x_test_tfidf_vector = tfidf_vectorizer.transform(test_count_vector)\n",
    "print(x_trained_tfidf_vector.shape)\n",
    "print(x_trained_tfidf_vector.toarray())"
   ]
  },
  {
   "cell_type": "markdown",
   "metadata": {},
   "source": [
    "### Train Logistic Regression Model and use to predict\n",
    "\n",
    "1. Here we want to use our previously split training data to train the logistic model.\n",
    "2. Afterwards, we will feed it our testing test and print out an accuracy report.\n",
    "\n"
   ]
  },
  {
   "cell_type": "code",
   "execution_count": 7,
   "metadata": {},
   "outputs": [
    {
     "name": "stdout",
     "output_type": "stream",
     "text": [
      "Filtered Title Accuracy:  0.9324786324786325\n",
      "                       precision    recall  f1-score   support\n",
      "\n",
      "       People & Blogs       0.98      0.62      0.76        91\n",
      "        Entertainment       0.95      0.88      0.92       664\n",
      "               Comedy       0.96      0.93      0.94       329\n",
      " Science & Technology       0.86      0.97      0.91      2016\n",
      "     Film & Animation       0.99      0.86      0.92       495\n",
      "      News & Politics       0.99      0.87      0.92       149\n",
      "               Sports       0.95      0.95      0.95       823\n",
      "                Music       0.95      0.98      0.97      1245\n",
      "       Pets & Animals       0.97      0.94      0.96       523\n",
      "            Education       1.00      0.10      0.18        10\n",
      "        Howto & Style       0.96      0.88      0.92       660\n",
      "     Autos & Vehicles       0.98      0.91      0.95       186\n",
      "      Travel & Events       0.94      0.94      0.94       461\n",
      "               Gaming       1.00      0.86      0.92        14\n",
      "Nonprofits & Activism       0.97      0.97      0.97       437\n",
      "                Shows       1.00      0.76      0.86        87\n",
      "\n",
      "             accuracy                           0.93      8190\n",
      "            macro avg       0.97      0.84      0.87      8190\n",
      "         weighted avg       0.94      0.93      0.93      8190\n",
      "\n"
     ]
    }
   ],
   "source": [
    "LogReg = LogisticRegression(solver='lbfgs', max_iter = 4000)\n",
    "normalizedLogRegFit = LogReg.fit(x_trained_tfidf_vector, y_train)\n",
    "normalized_predict = normalizedLogRegFit.predict(x_test_tfidf_vector)\n",
    "print(\"Filtered Title Accuracy: \", accuracy_score(y_test, normalized_predict))\n",
    "print(metrics.classification_report(y_test, normalized_predict, target_names=target_names))\n",
    "\n",
    "regular_accuracy = accuracy_score(y_test, normalized_predict)"
   ]
  },
  {
   "cell_type": "code",
   "execution_count": 8,
   "metadata": {},
   "outputs": [
    {
     "name": "stdout",
     "output_type": "stream",
     "text": [
      "Normalized Filtered Title Accuracy:  0.9781440781440781\n",
      "                       precision    recall  f1-score   support\n",
      "\n",
      "       People & Blogs       0.99      0.95      0.97        91\n",
      "        Entertainment       0.98      0.95      0.97       664\n",
      "               Comedy       0.98      0.98      0.98       329\n",
      " Science & Technology       0.96      0.98      0.97      2016\n",
      "     Film & Animation       0.99      0.98      0.98       495\n",
      "      News & Politics       1.00      0.97      0.99       149\n",
      "               Sports       0.98      0.99      0.98       823\n",
      "                Music       0.98      1.00      0.99      1245\n",
      "       Pets & Animals       0.99      0.98      0.98       523\n",
      "            Education       1.00      1.00      1.00        10\n",
      "        Howto & Style       0.98      0.95      0.97       660\n",
      "     Autos & Vehicles       0.98      0.99      0.98       186\n",
      "      Travel & Events       0.97      0.97      0.97       461\n",
      "               Gaming       1.00      1.00      1.00        14\n",
      "Nonprofits & Activism       0.99      0.99      0.99       437\n",
      "                Shows       1.00      0.94      0.97        87\n",
      "\n",
      "             accuracy                           0.98      8190\n",
      "            macro avg       0.99      0.98      0.98      8190\n",
      "         weighted avg       0.98      0.98      0.98      8190\n",
      "\n"
     ]
    }
   ],
   "source": [
    "RegularLogRegFit = LogReg.fit(train_count_vector, y_train)\n",
    "regular_predict = RegularLogRegFit.predict(test_count_vector)\n",
    "print(\"Normalized Filtered Title Accuracy: \", accuracy_score(y_test, regular_predict))\n",
    "print(metrics.classification_report(y_test, regular_predict, target_names=target_names))\n",
    "\n",
    "normalized_accuracy = accuracy_score(y_test, regular_predict)"
   ]
  },
  {
   "cell_type": "code",
   "execution_count": 9,
   "metadata": {},
   "outputs": [
    {
     "name": "stdout",
     "output_type": "stream",
     "text": [
      "No Stopwords Title Accuracy:  0.976068376068376\n",
      "                       precision    recall  f1-score   support\n",
      "\n",
      "       People & Blogs       0.99      0.95      0.97        91\n",
      "        Entertainment       0.98      0.95      0.96       664\n",
      "               Comedy       0.99      0.99      0.99       329\n",
      " Science & Technology       0.96      0.98      0.97      2016\n",
      "     Film & Animation       0.99      0.97      0.98       495\n",
      "      News & Politics       1.00      0.97      0.99       149\n",
      "               Sports       0.97      0.99      0.98       823\n",
      "                Music       0.98      1.00      0.99      1245\n",
      "       Pets & Animals       0.99      0.97      0.98       523\n",
      "            Education       1.00      1.00      1.00        10\n",
      "        Howto & Style       0.98      0.95      0.96       660\n",
      "     Autos & Vehicles       0.98      0.98      0.98       186\n",
      "      Travel & Events       0.96      0.97      0.97       461\n",
      "               Gaming       1.00      1.00      1.00        14\n",
      "Nonprofits & Activism       0.99      0.99      0.99       437\n",
      "                Shows       1.00      0.94      0.97        87\n",
      "\n",
      "             accuracy                           0.98      8190\n",
      "            macro avg       0.98      0.97      0.98      8190\n",
      "         weighted avg       0.98      0.98      0.98      8190\n",
      "\n"
     ]
    }
   ],
   "source": [
    "stopWordsLogRegFit = LogReg.fit(train_count_vector2, y_train)\n",
    "stopWords_predict = stopWordsLogRegFit.predict(test_count_vector2)\n",
    "print(\"No Stopwords Title Accuracy: \", accuracy_score(y_test, stopWords_predict))\n",
    "print(metrics.classification_report(y_test, stopWords_predict, target_names=target_names))\n",
    "\n",
    "stopwords_accuracy = accuracy_score(y_test, stopWords_predict)"
   ]
  },
  {
   "cell_type": "code",
   "execution_count": 13,
   "metadata": {},
   "outputs": [
    {
     "data": {
      "image/png": "[encoded data removed]",
      "text/plain": [
       "<Figure size 432x288 with 1 Axes>"
      ]
     },
     "metadata": {
      "needs_background": "light"
     },
     "output_type": "display_data"
    }
   ],
   "source": [
    "fig = plt.figure()\n",
    "ax = fig.add_axes([0,0,1,1])\n",
    "plt.ylim(.9, 1)\n",
    "x = [\"Regular Filtered\", \"Filterd/Normalized\", \"Filtered/No StopWords\"]\n",
    "y = [regular_accuracy, normalized_accuracy, stopwords_accuracy]\n",
    "fig.suptitle('LogReg Input vs Accuracy', fontsize=20)\n",
    "plt.xlabel('Input Type', fontsize=15)\n",
    "plt.ylabel('Accuracy Percentage', fontsize=14)\n",
    "ax.bar(x,y)\n",
    "plt.show()"
   ]
  },
  {
   "cell_type": "code",
   "execution_count": null,
   "metadata": {},
   "outputs": [],
   "source": []
  }
 ],
 "metadata": {
  "kernelspec": {
   "display_name": "Python 3",
   "language": "python",
   "name": "python3"
  },
  "language_info": {
   "codemirror_mode": {
    "name": "ipython",
    "version": 3
   },
   "file_extension": ".py",
   "mimetype": "text/x-python",
   "name": "python",
   "nbconvert_exporter": "python",
   "pygments_lexer": "ipython3",
   "version": "3.7.3"
  }
 },
 "nbformat": 4,
 "nbformat_minor": 4
}
