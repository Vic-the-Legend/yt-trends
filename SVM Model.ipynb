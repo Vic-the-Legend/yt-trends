{
 "cells": [
  {
   "cell_type": "code",
   "execution_count": 1,
   "metadata": {},
   "outputs": [],
   "source": [
    "import pandas as pd\n",
    "from sklearn.model_selection import train_test_split\n",
    "from sklearn import metrics\n",
    "from sklearn.svm import SVC\n",
    "from sklearn.metrics import accuracy_score\n",
    "from sklearn.feature_extraction.text import CountVectorizer, TfidfTransformer\n"
   ]
  },
  {
   "cell_type": "code",
   "execution_count": 2,
   "metadata": {},
   "outputs": [
    {
     "data": {
      "text/html": [
       "<div>\n",
       "<style scoped>\n",
       "    .dataframe tbody tr th:only-of-type {\n",
       "        vertical-align: middle;\n",
       "    }\n",
       "\n",
       "    .dataframe tbody tr th {\n",
       "        vertical-align: top;\n",
       "    }\n",
       "\n",
       "    .dataframe thead th {\n",
       "        text-align: right;\n",
       "    }\n",
       "</style>\n",
       "<table border=\"1\" class=\"dataframe\">\n",
       "  <thead>\n",
       "    <tr style=\"text-align: right;\">\n",
       "      <th></th>\n",
       "      <th>title</th>\n",
       "      <th>filter_title</th>\n",
       "      <th>description</th>\n",
       "      <th>category_id</th>\n",
       "    </tr>\n",
       "  </thead>\n",
       "  <tbody>\n",
       "    <tr>\n",
       "      <td>0</td>\n",
       "      <td>WE WANT TO TALK ABOUT OUR MARRIAGE</td>\n",
       "      <td>we want to talk about our marriage</td>\n",
       "      <td>shantells channel httpswwwyoutubecomshantellma...</td>\n",
       "      <td>People &amp; Blogs</td>\n",
       "    </tr>\n",
       "    <tr>\n",
       "      <td>1</td>\n",
       "      <td>The Trump Presidency: Last Week Tonight with J...</td>\n",
       "      <td>the trump presidency last week tonight with jo...</td>\n",
       "      <td>one year after the presidential election john ...</td>\n",
       "      <td>Entertainment</td>\n",
       "    </tr>\n",
       "    <tr>\n",
       "      <td>2</td>\n",
       "      <td>Racist Superman | Rudy Mancuso, King Bach &amp; Le...</td>\n",
       "      <td>racist superman rudy mancuso king bach lele pons</td>\n",
       "      <td>watch my previous video ▶ nnsubscribe ► httpsw...</td>\n",
       "      <td>Comedy</td>\n",
       "    </tr>\n",
       "    <tr>\n",
       "      <td>3</td>\n",
       "      <td>Nickelback Lyrics: Real or Fake?</td>\n",
       "      <td>nickelback lyrics real or fake</td>\n",
       "      <td>today we find out if link is a nickelback amat...</td>\n",
       "      <td>Entertainment</td>\n",
       "    </tr>\n",
       "    <tr>\n",
       "      <td>4</td>\n",
       "      <td>I Dare You: GOING BALD!?</td>\n",
       "      <td>i dare you going bald</td>\n",
       "      <td>i know its been a while since we did this show...</td>\n",
       "      <td>Entertainment</td>\n",
       "    </tr>\n",
       "  </tbody>\n",
       "</table>\n",
       "</div>"
      ],
      "text/plain": [
       "                                               title  \\\n",
       "0                 WE WANT TO TALK ABOUT OUR MARRIAGE   \n",
       "1  The Trump Presidency: Last Week Tonight with J...   \n",
       "2  Racist Superman | Rudy Mancuso, King Bach & Le...   \n",
       "3                   Nickelback Lyrics: Real or Fake?   \n",
       "4                           I Dare You: GOING BALD!?   \n",
       "\n",
       "                                        filter_title  \\\n",
       "0                 we want to talk about our marriage   \n",
       "1  the trump presidency last week tonight with jo...   \n",
       "2   racist superman rudy mancuso king bach lele pons   \n",
       "3                     nickelback lyrics real or fake   \n",
       "4                              i dare you going bald   \n",
       "\n",
       "                                         description     category_id  \n",
       "0  shantells channel httpswwwyoutubecomshantellma...  People & Blogs  \n",
       "1  one year after the presidential election john ...   Entertainment  \n",
       "2  watch my previous video ▶ nnsubscribe ► httpsw...          Comedy  \n",
       "3  today we find out if link is a nickelback amat...   Entertainment  \n",
       "4  i know its been a while since we did this show...   Entertainment  "
      ]
     },
     "execution_count": 2,
     "metadata": {},
     "output_type": "execute_result"
    }
   ],
   "source": [
    "df_titles_info = pd.read_csv('./output/US_count_vectorizer_dataset.csv')\n",
    "df_titles_info.head()"
   ]
  },
  {
   "cell_type": "code",
   "execution_count": 3,
   "metadata": {},
   "outputs": [],
   "source": [
    "df_x = df_titles_info['filter_title']\n",
    "df_y = df_titles_info['category_id']\n",
    "\n",
    "target_names = list(df_titles_info['category_id'].unique())"
   ]
  },
  {
   "cell_type": "code",
   "execution_count": 4,
   "metadata": {},
   "outputs": [],
   "source": [
    "x_train, x_test, y_train, y_test = train_test_split(df_x, df_y, test_size=0.2, random_state=117)"
   ]
  },
  {
   "cell_type": "code",
   "execution_count": 5,
   "metadata": {},
   "outputs": [],
   "source": [
    "count_vectorizer = CountVectorizer()\n",
    "train_count_vector = count_vectorizer.fit_transform(x_train)\n",
    "test_count_vector = count_vectorizer.transform(x_test)\n",
    "\n",
    "tfidf_vectorizer = TfidfTransformer()\n",
    "x_trained_tfidf_vector = tfidf_vectorizer.fit_transform(train_count_vector)\n",
    "x_test_tfidf_vector = tfidf_vectorizer.transform(test_count_vector)"
   ]
  },
  {
   "cell_type": "code",
   "execution_count": 6,
   "metadata": {},
   "outputs": [
    {
     "name": "stderr",
     "output_type": "stream",
     "text": [
      "C:\\Users\\sddjl\\Anaconda3\\lib\\site-packages\\sklearn\\svm\\base.py:193: FutureWarning: The default value of gamma will change from 'auto' to 'scale' in version 0.22 to account better for unscaled features. Set gamma explicitly to 'auto' or 'scale' to avoid this warning.\n",
      "  \"avoid this warning.\", FutureWarning)\n"
     ]
    },
    {
     "name": "stdout",
     "output_type": "stream",
     "text": [
      "Accuracy:  0.24615384615384617\n",
      "                       precision    recall  f1-score   support\n",
      "\n",
      "       People & Blogs       0.00      0.00      0.00        91\n",
      "        Entertainment       0.00      0.00      0.00       664\n",
      "               Comedy       0.00      0.00      0.00       329\n",
      " Science & Technology       0.25      1.00      0.40      2016\n",
      "     Film & Animation       0.00      0.00      0.00       495\n",
      "      News & Politics       0.00      0.00      0.00       149\n",
      "               Sports       0.00      0.00      0.00       823\n",
      "                Music       0.00      0.00      0.00      1245\n",
      "       Pets & Animals       0.00      0.00      0.00       523\n",
      "            Education       0.00      0.00      0.00        10\n",
      "        Howto & Style       0.00      0.00      0.00       660\n",
      "     Autos & Vehicles       0.00      0.00      0.00       186\n",
      "      Travel & Events       0.00      0.00      0.00       461\n",
      "               Gaming       0.00      0.00      0.00        14\n",
      "Nonprofits & Activism       0.00      0.00      0.00       437\n",
      "                Shows       0.00      0.00      0.00        87\n",
      "\n",
      "             accuracy                           0.25      8190\n",
      "            macro avg       0.02      0.06      0.02      8190\n",
      "         weighted avg       0.06      0.25      0.10      8190\n",
      "\n"
     ]
    },
    {
     "name": "stderr",
     "output_type": "stream",
     "text": [
      "C:\\Users\\sddjl\\Anaconda3\\lib\\site-packages\\sklearn\\metrics\\classification.py:1437: UndefinedMetricWarning: Precision and F-score are ill-defined and being set to 0.0 in labels with no predicted samples.\n",
      "  'precision', 'predicted', average, warn_for)\n"
     ]
    }
   ],
   "source": [
    "svm_tfidf = SVC().fit(x_trained_tfidf_vector, y_train)\n",
    "svm_pred_tfidf = svm_tfidf.predict(x_test_tfidf_vector)\n",
    "\n",
    "print(\"Accuracy: \", accuracy_score(y_test, svm_pred_tfidf))\n",
    "print(metrics.classification_report(y_test, svm_pred_tfidf, target_names=target_names))"
   ]
  },
  {
   "cell_type": "code",
   "execution_count": 7,
   "metadata": {},
   "outputs": [
    {
     "name": "stderr",
     "output_type": "stream",
     "text": [
      "C:\\Users\\sddjl\\Anaconda3\\lib\\site-packages\\sklearn\\svm\\base.py:193: FutureWarning: The default value of gamma will change from 'auto' to 'scale' in version 0.22 to account better for unscaled features. Set gamma explicitly to 'auto' or 'scale' to avoid this warning.\n",
      "  \"avoid this warning.\", FutureWarning)\n"
     ]
    },
    {
     "name": "stdout",
     "output_type": "stream",
     "text": [
      "Accuracy:  0.24615384615384617\n",
      "                       precision    recall  f1-score   support\n",
      "\n",
      "       People & Blogs       0.00      0.00      0.00        91\n",
      "        Entertainment       0.00      0.00      0.00       664\n",
      "               Comedy       0.00      0.00      0.00       329\n",
      " Science & Technology       0.25      1.00      0.40      2016\n",
      "     Film & Animation       0.00      0.00      0.00       495\n",
      "      News & Politics       0.00      0.00      0.00       149\n",
      "               Sports       0.00      0.00      0.00       823\n",
      "                Music       0.00      0.00      0.00      1245\n",
      "       Pets & Animals       0.00      0.00      0.00       523\n",
      "            Education       0.00      0.00      0.00        10\n",
      "        Howto & Style       0.00      0.00      0.00       660\n",
      "     Autos & Vehicles       0.00      0.00      0.00       186\n",
      "      Travel & Events       0.00      0.00      0.00       461\n",
      "               Gaming       0.00      0.00      0.00        14\n",
      "Nonprofits & Activism       0.00      0.00      0.00       437\n",
      "                Shows       0.00      0.00      0.00        87\n",
      "\n",
      "             accuracy                           0.25      8190\n",
      "            macro avg       0.02      0.06      0.02      8190\n",
      "         weighted avg       0.06      0.25      0.10      8190\n",
      "\n"
     ]
    },
    {
     "name": "stderr",
     "output_type": "stream",
     "text": [
      "C:\\Users\\sddjl\\Anaconda3\\lib\\site-packages\\sklearn\\metrics\\classification.py:1437: UndefinedMetricWarning: Precision and F-score are ill-defined and being set to 0.0 in labels with no predicted samples.\n",
      "  'precision', 'predicted', average, warn_for)\n"
     ]
    }
   ],
   "source": [
    "svm_count = SVC().fit(train_count_vector, y_train)\n",
    "svm_pred_count = svm_count.predict(test_count_vector)\n",
    "\n",
    "print(\"Accuracy: \", accuracy_score(y_test, svm_pred_count))\n",
    "print(metrics.classification_report(y_test, svm_pred_count, target_names=target_names))"
   ]
  },
  {
   "cell_type": "code",
   "execution_count": null,
   "metadata": {},
   "outputs": [],
   "source": []
  }
 ],
 "metadata": {
  "kernelspec": {
   "display_name": "Python 3",
   "language": "python",
   "name": "python3"
  },
  "language_info": {
   "codemirror_mode": {
    "name": "ipython",
    "version": 3
   },
   "file_extension": ".py",
   "mimetype": "text/x-python",
   "name": "python",
   "nbconvert_exporter": "python",
   "pygments_lexer": "ipython3",
   "version": "3.7.6"
  }
 },
 "nbformat": 4,
 "nbformat_minor": 4
}
