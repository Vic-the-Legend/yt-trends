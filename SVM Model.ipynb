{
 "cells": [
  {
   "cell_type": "code",
   "execution_count": 1,
   "metadata": {},
   "outputs": [],
   "source": [
    "import pandas as pd\n",
    "from sklearn.model_selection import train_test_split\n",
    "from sklearn import metrics\n",
    "from sklearn.svm import SVC\n",
    "from sklearn.metrics import accuracy_score\n",
    "from sklearn.feature_extraction.text import CountVectorizer, TfidfTransformer\n"
   ]
  },
  {
   "cell_type": "code",
   "execution_count": 2,
   "metadata": {},
   "outputs": [
    {
     "data": {
      "text/html": [
       "<div>\n",
       "<style scoped>\n",
       "    .dataframe tbody tr th:only-of-type {\n",
       "        vertical-align: middle;\n",
       "    }\n",
       "\n",
       "    .dataframe tbody tr th {\n",
       "        vertical-align: top;\n",
       "    }\n",
       "\n",
       "    .dataframe thead th {\n",
       "        text-align: right;\n",
       "    }\n",
       "</style>\n",
       "<table border=\"1\" class=\"dataframe\">\n",
       "  <thead>\n",
       "    <tr style=\"text-align: right;\">\n",
       "      <th></th>\n",
       "      <th>title</th>\n",
       "      <th>filter_title</th>\n",
       "      <th>filter_title_no_stops</th>\n",
       "      <th>category_id</th>\n",
       "    </tr>\n",
       "  </thead>\n",
       "  <tbody>\n",
       "    <tr>\n",
       "      <th>0</th>\n",
       "      <td>WE WANT TO TALK ABOUT OUR MARRIAGE</td>\n",
       "      <td>we want to talk about our marriage</td>\n",
       "      <td>want talk marriage</td>\n",
       "      <td>People &amp; Blogs</td>\n",
       "    </tr>\n",
       "    <tr>\n",
       "      <th>1</th>\n",
       "      <td>The Trump Presidency: Last Week Tonight with J...</td>\n",
       "      <td>the trump presidency last week tonight with jo...</td>\n",
       "      <td>trump presidency last week tonight john oliver...</td>\n",
       "      <td>Entertainment</td>\n",
       "    </tr>\n",
       "    <tr>\n",
       "      <th>2</th>\n",
       "      <td>Racist Superman | Rudy Mancuso, King Bach &amp; Le...</td>\n",
       "      <td>racist superman rudy mancuso king bach lele pons</td>\n",
       "      <td>racist superman rudy mancuso king bach lele pons</td>\n",
       "      <td>Comedy</td>\n",
       "    </tr>\n",
       "    <tr>\n",
       "      <th>3</th>\n",
       "      <td>Nickelback Lyrics: Real or Fake?</td>\n",
       "      <td>nickelback lyrics real or fake</td>\n",
       "      <td>nickelback lyrics real fake</td>\n",
       "      <td>Entertainment</td>\n",
       "    </tr>\n",
       "    <tr>\n",
       "      <th>4</th>\n",
       "      <td>I Dare You: GOING BALD!?</td>\n",
       "      <td>i dare you going bald</td>\n",
       "      <td>dare going bald</td>\n",
       "      <td>Entertainment</td>\n",
       "    </tr>\n",
       "  </tbody>\n",
       "</table>\n",
       "</div>"
      ],
      "text/plain": [
       "                                               title  \\\n",
       "0                 WE WANT TO TALK ABOUT OUR MARRIAGE   \n",
       "1  The Trump Presidency: Last Week Tonight with J...   \n",
       "2  Racist Superman | Rudy Mancuso, King Bach & Le...   \n",
       "3                   Nickelback Lyrics: Real or Fake?   \n",
       "4                           I Dare You: GOING BALD!?   \n",
       "\n",
       "                                        filter_title  \\\n",
       "0                 we want to talk about our marriage   \n",
       "1  the trump presidency last week tonight with jo...   \n",
       "2   racist superman rudy mancuso king bach lele pons   \n",
       "3                     nickelback lyrics real or fake   \n",
       "4                              i dare you going bald   \n",
       "\n",
       "                               filter_title_no_stops     category_id  \n",
       "0                                 want talk marriage  People & Blogs  \n",
       "1  trump presidency last week tonight john oliver...   Entertainment  \n",
       "2   racist superman rudy mancuso king bach lele pons          Comedy  \n",
       "3                        nickelback lyrics real fake   Entertainment  \n",
       "4                                    dare going bald   Entertainment  "
      ]
     },
     "execution_count": 2,
     "metadata": {},
     "output_type": "execute_result"
    }
   ],
   "source": [
    "df_titles_info = pd.read_csv('./output/US_count_vectorizer_dataset.csv')\n",
    "df_titles_info.head()"
   ]
  },
  {
   "cell_type": "code",
   "execution_count": 3,
   "metadata": {},
   "outputs": [],
   "source": [
    "df_x = df_titles_info['filter_title']\n",
    "df_y = df_titles_info['category_id']\n",
    "\n",
    "target_names = list(df_titles_info['category_id'].unique())"
   ]
  },
  {
   "cell_type": "code",
   "execution_count": 4,
   "metadata": {},
   "outputs": [],
   "source": [
    "x_train, x_test, y_train, y_test = train_test_split(df_x, df_y, test_size=0.2, random_state=117)"
   ]
  },
  {
   "cell_type": "code",
   "execution_count": 5,
   "metadata": {},
   "outputs": [],
   "source": [
    "count_vectorizer = CountVectorizer()\n",
    "train_count_vector = count_vectorizer.fit_transform(x_train)\n",
    "test_count_vector = count_vectorizer.transform(x_test)\n",
    "\n",
    "tfidf_vectorizer = TfidfTransformer()\n",
    "x_trained_tfidf_vector = tfidf_vectorizer.fit_transform(train_count_vector)\n",
    "x_test_tfidf_vector = tfidf_vectorizer.transform(test_count_vector)"
   ]
  },
  {
   "cell_type": "code",
   "execution_count": 8,
   "metadata": {},
   "outputs": [
    {
     "name": "stdout",
     "output_type": "stream",
     "text": [
      "Accuracy:  0.9807081807081807\n",
      "                       precision    recall  f1-score   support\n",
      "\n",
      "       People & Blogs       0.98      0.95      0.96        91\n",
      "        Entertainment       0.98      0.96      0.97       664\n",
      "               Comedy       0.98      0.99      0.99       329\n",
      " Science & Technology       0.96      0.99      0.97      2016\n",
      "     Film & Animation       1.00      0.98      0.99       495\n",
      "      News & Politics       1.00      0.99      0.99       149\n",
      "               Sports       0.99      0.99      0.99       823\n",
      "                Music       0.99      0.99      0.99      1245\n",
      "       Pets & Animals       0.99      0.98      0.98       523\n",
      "            Education       1.00      1.00      1.00        10\n",
      "        Howto & Style       0.98      0.96      0.97       660\n",
      "     Autos & Vehicles       0.98      0.99      0.99       186\n",
      "      Travel & Events       0.97      0.98      0.97       461\n",
      "               Gaming       1.00      1.00      1.00        14\n",
      "Nonprofits & Activism       0.99      0.99      0.99       437\n",
      "                Shows       1.00      0.93      0.96        87\n",
      "\n",
      "             accuracy                           0.98      8190\n",
      "            macro avg       0.99      0.98      0.98      8190\n",
      "         weighted avg       0.98      0.98      0.98      8190\n",
      "\n"
     ]
    }
   ],
   "source": [
    "svm_tfidf = SVC(kernel='linear', gamma='scale').fit(x_trained_tfidf_vector, y_train)\n",
    "svm_pred_tfidf = svm_tfidf.predict(x_test_tfidf_vector)\n",
    "\n",
    "print(\"Accuracy: \", accuracy_score(y_test, svm_pred_tfidf))\n",
    "print(metrics.classification_report(y_test, svm_pred_tfidf, target_names=target_names))"
   ]
  },
  {
   "cell_type": "code",
   "execution_count": 9,
   "metadata": {},
   "outputs": [
    {
     "name": "stdout",
     "output_type": "stream",
     "text": [
      "Accuracy:  0.9887667887667888\n",
      "                       precision    recall  f1-score   support\n",
      "\n",
      "       People & Blogs       0.99      0.95      0.97        91\n",
      "        Entertainment       0.98      0.98      0.98       664\n",
      "               Comedy       0.98      1.00      0.99       329\n",
      " Science & Technology       0.99      0.99      0.99      2016\n",
      "     Film & Animation       0.99      1.00      0.99       495\n",
      "      News & Politics       1.00      1.00      1.00       149\n",
      "               Sports       1.00      0.99      1.00       823\n",
      "                Music       1.00      1.00      1.00      1245\n",
      "       Pets & Animals       0.99      0.99      0.99       523\n",
      "            Education       1.00      1.00      1.00        10\n",
      "        Howto & Style       0.99      0.97      0.98       660\n",
      "     Autos & Vehicles       0.98      0.99      0.99       186\n",
      "      Travel & Events       0.98      0.98      0.98       461\n",
      "               Gaming       1.00      1.00      1.00        14\n",
      "Nonprofits & Activism       0.99      0.99      0.99       437\n",
      "                Shows       1.00      0.94      0.97        87\n",
      "\n",
      "             accuracy                           0.99      8190\n",
      "            macro avg       0.99      0.99      0.99      8190\n",
      "         weighted avg       0.99      0.99      0.99      8190\n",
      "\n"
     ]
    }
   ],
   "source": [
    "svm_count = SVC(kernel='linear', gamma='scale').fit(train_count_vector, y_train)\n",
    "svm_pred_count = svm_count.predict(test_count_vector)\n",
    "\n",
    "print(\"Accuracy: \", accuracy_score(y_test, svm_pred_count))\n",
    "print(metrics.classification_report(y_test, svm_pred_count, target_names=target_names))"
   ]
  },
  {
   "cell_type": "code",
   "execution_count": null,
   "metadata": {},
   "outputs": [],
   "source": []
  }
 ],
 "metadata": {
  "kernelspec": {
   "display_name": "Python 3",
   "language": "python",
   "name": "python3"
  },
  "language_info": {
   "codemirror_mode": {
    "name": "ipython",
    "version": 3
   },
   "file_extension": ".py",
   "mimetype": "text/x-python",
   "name": "python",
   "nbconvert_exporter": "python",
   "pygments_lexer": "ipython3",
   "version": "3.7.6"
  }
 },
 "nbformat": 4,
 "nbformat_minor": 4
}
